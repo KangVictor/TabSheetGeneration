{
 "cells": [
  {
   "cell_type": "code",
   "execution_count": 3,
   "metadata": {},
   "outputs": [
    {
     "name": "stdout",
     "output_type": "stream",
     "text": [
      "ffmpeg version 7.0.2-static https://johnvansickle.com/ffmpeg/  Copyright (c) 2000-2024 the FFmpeg developers\n",
      "  built with gcc 8 (Debian 8.3.0-6)\n",
      "  configuration: --enable-gpl --enable-version3 --enable-static --disable-debug --disable-ffplay --disable-indev=sndio --disable-outdev=sndio --cc=gcc --enable-fontconfig --enable-frei0r --enable-gnutls --enable-gmp --enable-libgme --enable-gray --enable-libaom --enable-libfribidi --enable-libass --enable-libvmaf --enable-libfreetype --enable-libmp3lame --enable-libopencore-amrnb --enable-libopencore-amrwb --enable-libopenjpeg --enable-librubberband --enable-libsoxr --enable-libspeex --enable-libsrt --enable-libvorbis --enable-libopus --enable-libtheora --enable-libvidstab --enable-libvo-amrwbenc --enable-libvpx --enable-libwebp --enable-libx264 --enable-libx265 --enable-libxml2 --enable-libdav1d --enable-libxvid --enable-libzvbi --enable-libzimg\n",
      "  libavutil      59.  8.100 / 59.  8.100\n",
      "  libavcodec     61.  3.100 / 61.  3.100\n",
      "  libavformat    61.  1.100 / 61.  1.100\n",
      "  libavdevice    61.  1.100 / 61.  1.100\n",
      "  libavfilter    10.  1.100 / 10.  1.100\n",
      "  libswscale      8.  1.100 /  8.  1.100\n",
      "  libswresample   5.  1.100 /  5.  1.100\n",
      "  libpostproc    58.  1.100 / 58.  1.100\n",
      "Universal media converter\n",
      "usage: ffmpeg [options] [[infile options] -i infile]... {[outfile options] outfile}...\n",
      "\n",
      "\u001b[0;33mUse -h to get full help or, even better, run 'man ffmpeg'\n",
      "\u001b[0m"
     ]
    }
   ],
   "source": [
    "# %pip install librosa\n",
    "# %pip install spleeter\n",
    "# %pip install -r \"requirements.txt\"\n",
    "\n",
    "# %pip uninstall ffmpeg --yes\n",
    "# %pip uninstall ffmpeg-python --yes\n",
    "# %pip install ffmpeg_python\n",
    "\n",
    "# %pip uninstall pydub --yes\n",
    "# %pip uninstall ffmpeg --yes\n",
    "\n",
    "# %env PATH = workspaces/TabSheetGeneration/ffmpeg-git-20240629-amd64-static/:/workspaces/TabSheetGeneration/ghvenv/bin:/vscode/bin/linux-x64/91fbdddc47bc9c09064bf7acf133d22631cbf083/bin/remote-cli:/home/vscode/.local/bin:/usr/local/python/current/bin:/usr/local/py-utils/bin:/usr/local/jupyter:/usr/local/python/current/bin:/usr/local/py-utils/bin:/usr/local/share/nvm/current/bin:/usr/local/bin:/usr/local/python/current/bin:/usr/local/py-utils/bin:/usr/local/jupyter:/usr/local/python/current/bin:/usr/local/py-utils/bin:/usr/local/share/nvm/current/bin:/usr/local/bin:/usr/local/sbin:/usr/local/bin:/usr/sbin:/usr/bin:/sbin:/bin:/home/vscode/.local/bin\n",
    "\n",
    "# %env PATH\n",
    "\n",
    "! ffmpeg\n",
    "\n",
    "# !export PATH=../ffmpeg-git-20240629-amd64-static:$PATH\n",
    "# !source ~/.bashrc\n",
    "# !echo $PATH"
   ]
  },
  {
   "cell_type": "code",
   "execution_count": 2,
   "metadata": {},
   "outputs": [
    {
     "name": "stdout",
     "output_type": "stream",
     "text": [
      "  % Total    % Received % Xferd  Average Speed   Time    Time     Time  Current\n",
      "                                 Dload  Upload   Total   Spent    Left  Speed\n",
      "100 39.9M  100 39.9M    0     0  9389k      0  0:00:04  0:00:04 --:--:-- 9390k  0   263k      0  0:02:35  0:00:01  0:02:34  263k\n",
      "env: PATH=/workspaces/TabSheetGeneration/ghvenv/bin:/vscode/bin/linux-x64/91fbdddc47bc9c09064bf7acf133d22631cbf083/bin/remote-cli:/home/vscode/.local/bin:/usr/local/python/current/bin:/usr/local/py-utils/bin:/usr/local/jupyter:/usr/local/python/current/bin:/usr/local/py-utils/bin:/usr/local/share/nvm/current/bin:/usr/local/bin:/usr/local/python/current/bin:/usr/local/py-utils/bin:/usr/local/jupyter:/usr/local/python/current/bin:/usr/local/py-utils/bin:/usr/local/share/nvm/current/bin:/usr/local/bin:/usr/local/sbin:/usr/local/bin:/usr/sbin:/usr/bin:/sbin:/bin:/home/vscode/.local/bin:./ffmpeg-7.0.2-amd64-static\n",
      "\n",
      "./ffmpeg-7.0.2-amd64-static/ffmpeg\n",
      "Done!\n"
     ]
    }
   ],
   "source": [
    "# Download a static FFmpeg build and add it to PATH.\n",
    "exist = !which ffmpeg\n",
    "if not exist:\n",
    "  !curl https://johnvansickle.com/ffmpeg/releases/ffmpeg-release-amd64-static.tar.xz -o ffmpeg.tar.xz \\\n",
    "     && tar -xf ffmpeg.tar.xz && rm ffmpeg.tar.xz\n",
    "  ffmdir = !find . -iname ffmpeg-*-static\n",
    "  path = %env PATH\n",
    "  path = path + ':' + ffmdir[0]\n",
    "  %env PATH $path\n",
    "print('')\n",
    "!which ffmpeg\n",
    "print('Done!')"
   ]
  },
  {
   "cell_type": "code",
   "execution_count": 4,
   "metadata": {},
   "outputs": [],
   "source": [
    "# Import Librosa for audio analyzation\n",
    "import librosa\n",
    "import spleeter\n",
    "import numpy as np"
   ]
  },
  {
   "cell_type": "code",
   "execution_count": 39,
   "metadata": {},
   "outputs": [
    {
     "name": "stdout",
     "output_type": "stream",
     "text": [
      "/workspaces/TabSheetGeneration/src\n",
      "True\n"
     ]
    }
   ],
   "source": [
    "# import os\n",
    "# project_root = os.path.abspath(os.path.dirname('__file__'))\n",
    "# print(project_root)\n",
    "\n",
    "# # Construct the absolute paths to ffmpeg and ffprobe\n",
    "# ffmpeg_path = os.path.join(project_root, '../ffmpeg-git-20240629-amd64-static/ffmpeg')\n",
    "\n",
    "# print(os.path.isfile(ffmpeg_path))\n",
    "\n",
    "# ffprobe_path = os.path.join(project_root, '../ffmpeg-git-20240629-amd64-static/ffprobe')"
   ]
  },
  {
   "cell_type": "code",
   "execution_count": 42,
   "metadata": {},
   "outputs": [],
   "source": [
    "# inputPathname = 'audio/input/'\n",
    "# audioFilename = 'desert_eagle.mp3' # 320kbps audio file\n",
    "# filename = inputPathname + audioFilename\n",
    "\n",
    "# # Change audio file format from Python to ffmpeg\n",
    "# from pydub import AudioSegment\n",
    "\n",
    "# # We need to add this to the path and source it.\n",
    "# # Manually specify ffmpeg and ffprobe paths\n",
    "# AudioSegment.converter = \"../ffmpeg-git-20240629-amd64-static/ffmpeg\"\n",
    "# AudioSegment.ffmpeg = \"../ffmpeg-git-20240629-amd64-static/ffmpeg\"\n",
    "# AudioSegment.ffprobe =  \"../ffmpeg-git-20240629-amd64-static/ffmprobe\"\n",
    "\n",
    "# # take in mp3 file\n",
    "# audio = AudioSegment.from_mp3(filename)\n",
    "\n",
    "# # change back the file name\n",
    "# #audioname = audio.export(\"audio/output/output.wav\", format=\"wav\")"
   ]
  },
  {
   "cell_type": "code",
   "execution_count": 5,
   "metadata": {},
   "outputs": [],
   "source": [
    "# wav file name\n",
    "filename = \"audio/input/desert_eagle.wav\""
   ]
  },
  {
   "cell_type": "code",
   "execution_count": 7,
   "metadata": {},
   "outputs": [
    {
     "name": "stderr",
     "output_type": "stream",
     "text": [
      "ffmpeg version N-71064-gd5e603ddc0-static https://johnvansickle.com/ffmpeg/  Copyright (c) 2000-2024 the FFmpeg developers\n",
      "  built with gcc 8 (Debian 8.3.0-6)\n",
      "  configuration: --enable-gpl --enable-version3 --enable-static --disable-debug --disable-ffplay --disable-indev=sndio --disable-outdev=sndio --cc=gcc --enable-fontconfig --enable-frei0r --enable-gnutls --enable-gmp --enable-libgme --enable-gray --enable-libaom --enable-libfribidi --enable-libass --enable-libvmaf --enable-libfreetype --enable-libmp3lame --enable-libopencore-amrnb --enable-libopencore-amrwb --enable-libopenjpeg --enable-librubberband --enable-libsoxr --enable-libspeex --enable-libsrt --enable-libvorbis --enable-libopus --enable-libtheora --enable-libvidstab --enable-libvo-amrwbenc --enable-libvpx --enable-libwebp --enable-libx264 --enable-libx265 --enable-libxml2 --enable-libdav1d --enable-libxvid --enable-libzvbi --enable-libzimg\n",
      "  libavutil      59. 27.100 / 59. 27.100\n",
      "  libavcodec     61.  9.100 / 61.  9.100\n",
      "  libavformat    61.  4.100 / 61.  4.100\n",
      "  libavdevice    61.  2.100 / 61.  2.100\n",
      "  libavfilter    10.  2.102 / 10.  2.102\n",
      "  libswscale      8.  2.100 /  8.  2.100\n",
      "  libswresample   5.  2.100 /  5.  2.100\n",
      "  libpostproc    58.  2.100 / 58.  2.100\n",
      "Input #0, mp3, from 'audio/input/desert_eagle.mp3':\n",
      "  Metadata:\n",
      "    encoder         : Lavf59.27.100\n",
      "  Duration: 00:05:09.70, start: 0.023021, bitrate: 128 kb/s\n",
      "  Stream #0:0: Audio: mp3 (mp3float), 48000 Hz, stereo, fltp, 128 kb/s\n",
      "      Metadata:\n",
      "        encoder         : Lavc59.37\n",
      "Stream mapping:\n",
      "  Stream #0:0 -> #0:0 (mp3 (mp3float) -> pcm_s16le (native))\n",
      "Press [q] to stop, [?] for help\n",
      "Output #0, wav, to 'audio/output/output.wav':\n",
      "  Metadata:\n",
      "    ISFT            : Lavf61.4.100\n",
      "  Stream #0:0: Audio: pcm_s16le ([1][0][0][0] / 0x0001), 48000 Hz, stereo, s16, 1536 kb/s\n",
      "      Metadata:\n",
      "        encoder         : Lavc61.9.100 pcm_s16le\n",
      "[out#0/wav @ 0x691a700] video:0KiB audio:58060KiB subtitle:0KiB other streams:0KiB global headers:0KiB muxing overhead: 0.000131%\n",
      "size=   58060KiB time=00:05:09.65 bitrate=1536.0kbits/s speed= 453x    \n"
     ]
    },
    {
     "data": {
      "text/plain": [
       "(None, None)"
      ]
     },
     "execution_count": 7,
     "metadata": {},
     "output_type": "execute_result"
    }
   ],
   "source": [
    "# import ffmpeg\n",
    "# ffmpeg_path = \"../ffmpeg-git-20240629-amd64-static/ffmpeg\"\n",
    "\n",
    "# (\n",
    "#     ffmpeg\n",
    "#     .input('/audio/input/desert_eagle.mp3')\n",
    "#     .output('/audio/output/output.wav')\n",
    "#     .run(cmd=ffmpeg_path)\n",
    "# )"
   ]
  },
  {
   "cell_type": "code",
   "execution_count": 6,
   "metadata": {},
   "outputs": [
    {
     "name": "stdout",
     "output_type": "stream",
     "text": [
      "INFO:tensorflow:Using config: {'_model_dir': 'pretrained_models/5stems', '_tf_random_seed': None, '_save_summary_steps': 100, '_save_checkpoints_steps': None, '_save_checkpoints_secs': 600, '_session_config': gpu_options {\n",
      "  per_process_gpu_memory_fraction: 0.7\n",
      "}\n",
      ", '_keep_checkpoint_max': 5, '_keep_checkpoint_every_n_hours': 10000, '_log_step_count_steps': 100, '_train_distribute': None, '_device_fn': None, '_protocol': None, '_eval_distribute': None, '_experimental_distribute': None, '_experimental_max_worker_delay_secs': None, '_session_creation_timeout_secs': 7200, '_checkpoint_save_graph_def': True, '_service': None, '_cluster_spec': ClusterSpec({}), '_task_type': 'worker', '_task_id': 0, '_global_id_in_cluster': 0, '_master': '', '_evaluation_master': '', '_is_chief': True, '_num_ps_replicas': 0, '_num_worker_replicas': 1}\n",
      "INFO:tensorflow:Could not find trained model in model_dir: pretrained_models/5stems, running initialization to predict.\n",
      "WARNING:tensorflow:From /workspaces/TabSheetGeneration/ghvenv/lib/python3.8/site-packages/spleeter/separator.py:146: calling DatasetV2.from_generator (from tensorflow.python.data.ops.dataset_ops) with output_types is deprecated and will be removed in a future version.\n",
      "Instructions for updating:\n",
      "Use output_signature instead\n",
      "WARNING:tensorflow:From /workspaces/TabSheetGeneration/ghvenv/lib/python3.8/site-packages/spleeter/separator.py:146: calling DatasetV2.from_generator (from tensorflow.python.data.ops.dataset_ops) with output_shapes is deprecated and will be removed in a future version.\n",
      "Instructions for updating:\n",
      "Use output_signature instead\n",
      "INFO:tensorflow:Calling model_fn.\n",
      "INFO:tensorflow:Apply unet for vocals_spectrogram\n",
      "WARNING:tensorflow:From /workspaces/TabSheetGeneration/ghvenv/lib/python3.8/site-packages/keras/layers/normalization/batch_normalization.py:514: _colocate_with (from tensorflow.python.framework.ops) is deprecated and will be removed in a future version.\n",
      "Instructions for updating:\n",
      "Colocations handled automatically by placer.\n"
     ]
    },
    {
     "name": "stderr",
     "output_type": "stream",
     "text": [
      "2025-02-06 14:20:20.084342: W tensorflow/stream_executor/platform/default/dso_loader.cc:64] Could not load dynamic library 'libcuda.so.1'; dlerror: libcuda.so.1: cannot open shared object file: No such file or directory\n",
      "2025-02-06 14:20:20.084382: W tensorflow/stream_executor/cuda/cuda_driver.cc:269] failed call to cuInit: UNKNOWN ERROR (303)\n",
      "2025-02-06 14:20:20.084427: I tensorflow/stream_executor/cuda/cuda_diagnostics.cc:156] kernel driver does not appear to be running on this host (codespaces-452884): /proc/driver/nvidia/version does not exist\n"
     ]
    },
    {
     "name": "stdout",
     "output_type": "stream",
     "text": [
      "INFO:tensorflow:Apply unet for piano_spectrogram\n",
      "INFO:tensorflow:Apply unet for drums_spectrogram\n",
      "INFO:tensorflow:Apply unet for bass_spectrogram\n",
      "INFO:tensorflow:Apply unet for other_spectrogram\n",
      "INFO:tensorflow:Done calling model_fn.\n",
      "INFO:tensorflow:Graph was finalized.\n"
     ]
    },
    {
     "name": "stderr",
     "output_type": "stream",
     "text": [
      "2025-02-06 14:20:24.912272: I tensorflow/core/platform/cpu_feature_guard.cc:193] This TensorFlow binary is optimized with oneAPI Deep Neural Network Library (oneDNN) to use the following CPU instructions in performance-critical operations:  AVX2 FMA\n",
      "To enable them in other operations, rebuild TensorFlow with the appropriate compiler flags.\n",
      "2025-02-06 14:20:24.988937: I tensorflow/compiler/mlir/mlir_graph_optimization_pass.cc:354] MLIR V1 optimization pass is not enabled\n"
     ]
    },
    {
     "name": "stdout",
     "output_type": "stream",
     "text": [
      "INFO:tensorflow:Running local_init_op.\n",
      "INFO:tensorflow:Done running local_init_op.\n"
     ]
    },
    {
     "name": "stderr",
     "output_type": "stream",
     "text": [
      "2025-02-06 14:20:27.623627: W tensorflow/core/framework/cpu_allocator_impl.cc:82] Allocation of 437125120 exceeds 10% of free system memory.\n",
      "2025-02-06 14:20:27.706381: W tensorflow/core/framework/cpu_allocator_impl.cc:82] Allocation of 437338560 exceeds 10% of free system memory.\n",
      "2025-02-06 14:20:27.706481: W tensorflow/core/framework/cpu_allocator_impl.cc:82] Allocation of 874250240 exceeds 10% of free system memory.\n",
      "2025-02-06 14:20:29.639004: W tensorflow/core/framework/cpu_allocator_impl.cc:82] Allocation of 437338560 exceeds 10% of free system memory.\n",
      "2025-02-06 14:20:29.747814: W tensorflow/core/framework/cpu_allocator_impl.cc:82] Allocation of 453206016 exceeds 10% of free system memory.\n"
     ]
    },
    {
     "ename": "",
     "evalue": "",
     "output_type": "error",
     "traceback": [
      "\u001b[1;31m현재 셀 또는 이전 셀에서 코드를 실행하는 동안 Kernel이 충돌했습니다. \n",
      "\u001b[1;31m셀의 코드를 검토하여 가능한 오류 원인을 식별하세요. \n",
      "\u001b[1;31m자세한 내용을 보려면 <a href='https://aka.ms/vscodeJupyterKernelCrash'>여기</a>를 클릭하세요. \n",
      "\u001b[1;31m자세한 내용은 Jupyter <a href='command:jupyter.viewOutput'>로그</a>를 참조하세요."
     ]
    }
   ],
   "source": [
    "# Use audio loader explicitly for loading audio waveform :\n",
    "from spleeter.audio.adapter import AudioAdapter\n",
    "\n",
    "audio_loader = AudioAdapter.default()\n",
    "sample_rate = 44100\n",
    "waveform, _ = audio_loader.load(filename, sample_rate=sample_rate)\n",
    "\n",
    "# Import Separator from spleeter\n",
    "from spleeter.separator import Separator\n",
    "\n",
    "# Using embedded configuration.\n",
    "# Vocals / drums / bass / piano / other separation \n",
    "separator = Separator('spleeter:5stems')\n",
    "\n",
    "# Perform the separation :\n",
    "prediction = separator.separate(waveform)"
   ]
  },
  {
   "cell_type": "code",
   "execution_count": null,
   "metadata": {},
   "outputs": [],
   "source": [
    "# 1. Load the audio as a waveform `y`\n",
    "#    Store the sampling rate as `sr`\n",
    "y, sr = librosa.load(filename)"
   ]
  },
  {
   "cell_type": "code",
   "execution_count": 23,
   "metadata": {},
   "outputs": [],
   "source": [
    "# from pydub.utils import mediainfo\n",
    "# audio_info = mediainfo('desert_eagle.mp3')\n",
    "# # print(f'Bitrate: {audio_info['bit_rate']} kbps')"
   ]
  },
  {
   "cell_type": "code",
   "execution_count": 41,
   "metadata": {},
   "outputs": [
    {
     "name": "stdout",
     "output_type": "stream",
     "text": [
      "Estimated tempo: 80.75 beats per minute\n"
     ]
    }
   ],
   "source": [
    "# 2. Run the default beat tracker\n",
    "tempo, beat_frames = librosa.beat.beat_track(y=y, sr=sr)\n",
    "print(f'Estimated tempo: {tempo[0]:.2f} beats per minute')"
   ]
  },
  {
   "cell_type": "code",
   "execution_count": 43,
   "metadata": {},
   "outputs": [],
   "source": [
    "# 4. Convert the frame indices of beat events into timestamps\n",
    "beat_times = librosa.frames_to_time(beat_frames, sr=sr)"
   ]
  },
  {
   "cell_type": "code",
   "execution_count": null,
   "metadata": {},
   "outputs": [],
   "source": []
  }
 ],
 "metadata": {
  "kernelspec": {
   "display_name": "ghvenv",
   "language": "python",
   "name": "python3"
  },
  "language_info": {
   "codemirror_mode": {
    "name": "ipython",
    "version": 3
   },
   "file_extension": ".py",
   "mimetype": "text/x-python",
   "name": "python",
   "nbconvert_exporter": "python",
   "pygments_lexer": "ipython3",
   "version": "3.8.20"
  }
 },
 "nbformat": 4,
 "nbformat_minor": 2
}
